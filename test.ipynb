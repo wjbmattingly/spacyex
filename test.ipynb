{
 "cells": [
  {
   "cell_type": "code",
   "execution_count": 1,
   "metadata": {},
   "outputs": [],
   "source": [
    "from spacy_ex import SpacyEx\n",
    "import spacy\n"
   ]
  },
  {
   "cell_type": "code",
   "execution_count": 53,
   "metadata": {},
   "outputs": [],
   "source": [
    "# Usage example\n",
    "nlp = spacy.load(\"en_core_web_sm\")\n",
    "\n",
    "texts = [\"John Smith ran fast.\",\n",
    "         \"But Joe ran faster.\",\n",
    "         \"John Jacob Smith ran fast.\",\n",
    "         \"John Jacob Smith ran slow.\"]\n",
    "docs = list(nlp.pipe(texts))"
   ]
  },
  {
   "cell_type": "code",
   "execution_count": 67,
   "metadata": {},
   "outputs": [],
   "source": [
    "matcher_tool = SpacyEx(nlp)"
   ]
  },
  {
   "cell_type": "code",
   "execution_count": 68,
   "metadata": {},
   "outputs": [
    {
     "name": "stdout",
     "output_type": "stream",
     "text": [
      "[{'ENT_TYPE': 'PERSON', 'OP': '{3}'}, {'LEMMA': 'run'}, {'POS': 'ADV'}, {'LOWER': '.'}]\n"
     ]
    }
   ],
   "source": [
    "pattern = \"(ent_type=person|op={3}) run(lemma) (pos=ADV) .(lower)\"\n",
    "patterns = matcher_tool.create_pattern(pattern)\n",
    "print(patterns)"
   ]
  },
  {
   "cell_type": "code",
   "execution_count": 69,
   "metadata": {},
   "outputs": [],
   "source": [
    "matcher_tool.add_patterns(\"PATTERN_NAME\", patterns)"
   ]
  },
  {
   "cell_type": "code",
   "execution_count": 70,
   "metadata": {},
   "outputs": [
    {
     "name": "stdout",
     "output_type": "stream",
     "text": [
      "[[0, 6, John Jacob Smith ran fast.], [0, 6, John Jacob Smith ran slow.]]\n"
     ]
    }
   ],
   "source": [
    "matches = matcher_tool.query_docs(docs)\n",
    "print(matches)"
   ]
  },
  {
   "cell_type": "code",
   "execution_count": null,
   "metadata": {},
   "outputs": [],
   "source": []
  },
  {
   "cell_type": "code",
   "execution_count": null,
   "metadata": {},
   "outputs": [],
   "source": []
  }
 ],
 "metadata": {
  "kernelspec": {
   "display_name": "holocaust",
   "language": "python",
   "name": "python3"
  },
  "language_info": {
   "codemirror_mode": {
    "name": "ipython",
    "version": 3
   },
   "file_extension": ".py",
   "mimetype": "text/x-python",
   "name": "python",
   "nbconvert_exporter": "python",
   "pygments_lexer": "ipython3",
   "version": "3.10.13"
  }
 },
 "nbformat": 4,
 "nbformat_minor": 2
}
